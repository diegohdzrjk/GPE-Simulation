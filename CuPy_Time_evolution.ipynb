{
  "nbformat": 4,
  "nbformat_minor": 0,
  "metadata": {
    "colab": {
      "name": "Cupy.ipynb",
      "provenance": [],
      "collapsed_sections": []
    },
    "kernelspec": {
      "name": "python3",
      "display_name": "Python 3"
    },
    "accelerator": "GPU",
    "widgets": {
      "application/vnd.jupyter.widget-state+json": {
        "d39cfcc25f1f45eb8502a0c26f629be9": {
          "model_module": "@jupyter-widgets/controls",
          "model_name": "HBoxModel",
          "state": {
            "_view_name": "HBoxView",
            "_dom_classes": [],
            "_model_name": "HBoxModel",
            "_view_module": "@jupyter-widgets/controls",
            "_model_module_version": "1.5.0",
            "_view_count": null,
            "_view_module_version": "1.5.0",
            "box_style": "",
            "layout": "IPY_MODEL_1d3a938a45654c699fb177ebbbbac134",
            "_model_module": "@jupyter-widgets/controls",
            "children": [
              "IPY_MODEL_3ea1f79537bc4722bbfebcf98e4575f4",
              "IPY_MODEL_0eea34b0c81345028884b8d1147d2032"
            ]
          }
        },
        "1d3a938a45654c699fb177ebbbbac134": {
          "model_module": "@jupyter-widgets/base",
          "model_name": "LayoutModel",
          "state": {
            "_view_name": "LayoutView",
            "grid_template_rows": null,
            "right": null,
            "justify_content": null,
            "_view_module": "@jupyter-widgets/base",
            "overflow": null,
            "_model_module_version": "1.2.0",
            "_view_count": null,
            "flex_flow": null,
            "width": null,
            "min_width": null,
            "border": null,
            "align_items": null,
            "bottom": null,
            "_model_module": "@jupyter-widgets/base",
            "top": null,
            "grid_column": null,
            "overflow_y": null,
            "overflow_x": null,
            "grid_auto_flow": null,
            "grid_area": null,
            "grid_template_columns": null,
            "flex": null,
            "_model_name": "LayoutModel",
            "justify_items": null,
            "grid_row": null,
            "max_height": null,
            "align_content": null,
            "visibility": null,
            "align_self": null,
            "height": null,
            "min_height": null,
            "padding": null,
            "grid_auto_rows": null,
            "grid_gap": null,
            "max_width": null,
            "order": null,
            "_view_module_version": "1.2.0",
            "grid_template_areas": null,
            "object_position": null,
            "object_fit": null,
            "grid_auto_columns": null,
            "margin": null,
            "display": null,
            "left": null
          }
        },
        "3ea1f79537bc4722bbfebcf98e4575f4": {
          "model_module": "@jupyter-widgets/controls",
          "model_name": "FloatProgressModel",
          "state": {
            "_view_name": "ProgressView",
            "style": "IPY_MODEL_332dbf9ee6c54283bb43b089a7cc59d7",
            "_dom_classes": [],
            "description": "100%",
            "_model_name": "FloatProgressModel",
            "bar_style": "success",
            "max": 999,
            "_view_module": "@jupyter-widgets/controls",
            "_model_module_version": "1.5.0",
            "value": 999,
            "_view_count": null,
            "_view_module_version": "1.5.0",
            "orientation": "horizontal",
            "min": 0,
            "description_tooltip": null,
            "_model_module": "@jupyter-widgets/controls",
            "layout": "IPY_MODEL_f2557eb7a0c547e58e8d3bb0695adb25"
          }
        },
        "0eea34b0c81345028884b8d1147d2032": {
          "model_module": "@jupyter-widgets/controls",
          "model_name": "HTMLModel",
          "state": {
            "_view_name": "HTMLView",
            "style": "IPY_MODEL_8e35b832f0354118acca947888310068",
            "_dom_classes": [],
            "description": "",
            "_model_name": "HTMLModel",
            "placeholder": "​",
            "_view_module": "@jupyter-widgets/controls",
            "_model_module_version": "1.5.0",
            "value": " 999/999 [2:45:23&lt;00:00,  9.93s/it]",
            "_view_count": null,
            "_view_module_version": "1.5.0",
            "description_tooltip": null,
            "_model_module": "@jupyter-widgets/controls",
            "layout": "IPY_MODEL_9e2ba44ca26844ee8dd57fb04a319ab1"
          }
        },
        "332dbf9ee6c54283bb43b089a7cc59d7": {
          "model_module": "@jupyter-widgets/controls",
          "model_name": "ProgressStyleModel",
          "state": {
            "_view_name": "StyleView",
            "_model_name": "ProgressStyleModel",
            "description_width": "initial",
            "_view_module": "@jupyter-widgets/base",
            "_model_module_version": "1.5.0",
            "_view_count": null,
            "_view_module_version": "1.2.0",
            "bar_color": null,
            "_model_module": "@jupyter-widgets/controls"
          }
        },
        "f2557eb7a0c547e58e8d3bb0695adb25": {
          "model_module": "@jupyter-widgets/base",
          "model_name": "LayoutModel",
          "state": {
            "_view_name": "LayoutView",
            "grid_template_rows": null,
            "right": null,
            "justify_content": null,
            "_view_module": "@jupyter-widgets/base",
            "overflow": null,
            "_model_module_version": "1.2.0",
            "_view_count": null,
            "flex_flow": null,
            "width": null,
            "min_width": null,
            "border": null,
            "align_items": null,
            "bottom": null,
            "_model_module": "@jupyter-widgets/base",
            "top": null,
            "grid_column": null,
            "overflow_y": null,
            "overflow_x": null,
            "grid_auto_flow": null,
            "grid_area": null,
            "grid_template_columns": null,
            "flex": null,
            "_model_name": "LayoutModel",
            "justify_items": null,
            "grid_row": null,
            "max_height": null,
            "align_content": null,
            "visibility": null,
            "align_self": null,
            "height": null,
            "min_height": null,
            "padding": null,
            "grid_auto_rows": null,
            "grid_gap": null,
            "max_width": null,
            "order": null,
            "_view_module_version": "1.2.0",
            "grid_template_areas": null,
            "object_position": null,
            "object_fit": null,
            "grid_auto_columns": null,
            "margin": null,
            "display": null,
            "left": null
          }
        },
        "8e35b832f0354118acca947888310068": {
          "model_module": "@jupyter-widgets/controls",
          "model_name": "DescriptionStyleModel",
          "state": {
            "_view_name": "StyleView",
            "_model_name": "DescriptionStyleModel",
            "description_width": "",
            "_view_module": "@jupyter-widgets/base",
            "_model_module_version": "1.5.0",
            "_view_count": null,
            "_view_module_version": "1.2.0",
            "_model_module": "@jupyter-widgets/controls"
          }
        },
        "9e2ba44ca26844ee8dd57fb04a319ab1": {
          "model_module": "@jupyter-widgets/base",
          "model_name": "LayoutModel",
          "state": {
            "_view_name": "LayoutView",
            "grid_template_rows": null,
            "right": null,
            "justify_content": null,
            "_view_module": "@jupyter-widgets/base",
            "overflow": null,
            "_model_module_version": "1.2.0",
            "_view_count": null,
            "flex_flow": null,
            "width": null,
            "min_width": null,
            "border": null,
            "align_items": null,
            "bottom": null,
            "_model_module": "@jupyter-widgets/base",
            "top": null,
            "grid_column": null,
            "overflow_y": null,
            "overflow_x": null,
            "grid_auto_flow": null,
            "grid_area": null,
            "grid_template_columns": null,
            "flex": null,
            "_model_name": "LayoutModel",
            "justify_items": null,
            "grid_row": null,
            "max_height": null,
            "align_content": null,
            "visibility": null,
            "align_self": null,
            "height": null,
            "min_height": null,
            "padding": null,
            "grid_auto_rows": null,
            "grid_gap": null,
            "max_width": null,
            "order": null,
            "_view_module_version": "1.2.0",
            "grid_template_areas": null,
            "object_position": null,
            "object_fit": null,
            "grid_auto_columns": null,
            "margin": null,
            "display": null,
            "left": null
          }
        }
      }
    }
  },
  "cells": [
    {
      "cell_type": "markdown",
      "metadata": {
        "id": "iPB3pv_x60s9"
      },
      "source": [
        "# Libraries"
      ]
    },
    {
      "cell_type": "code",
      "metadata": {
        "id": "0sfw4w1A8BWc"
      },
      "source": [
        "import cupy as cp\n",
        "import numpy as np\n",
        "import matplotlib.pyplot as plt\n",
        "from tqdm.notebook import tqdm\n",
        "import scipy.constants as cnts\n",
        "import time\n",
        "import os"
      ],
      "execution_count": 1,
      "outputs": []
    },
    {
      "cell_type": "code",
      "metadata": {
        "colab": {
          "base_uri": "https://localhost:8080/"
        },
        "id": "kRN89DTfZ3i1",
        "outputId": "0e2db878-8f9b-4c32-a954-faa7a5dc22f1"
      },
      "source": [
        "from google.colab import files\n",
        "from google.colab import drive\n",
        "drive.mount('/content/drive')"
      ],
      "execution_count": 2,
      "outputs": [
        {
          "output_type": "stream",
          "text": [
            "Mounted at /content/drive\n"
          ],
          "name": "stdout"
        }
      ]
    },
    {
      "cell_type": "markdown",
      "metadata": {
        "id": "wZp8dsOq6xTh"
      },
      "source": [
        "#Constants"
      ]
    },
    {
      "cell_type": "code",
      "metadata": {
        "colab": {
          "base_uri": "https://localhost:8080/"
        },
        "id": "5B_mRJvW54Wl",
        "outputId": "e3383893-6b72-4f7a-ce95-8f758130b5d9"
      },
      "source": [
        "hbar = cnts.hbar # Js\n",
        "a0 = cnts.physical_constants['Bohr radius'][0] # m\n",
        "m6Li2 = 2*9.98834e-27 # kg\n",
        "# 650G -> 810.9\n",
        "# 690G -> 1423.1\n",
        "# 710G -> 1887.4\n",
        "# 750G -> 3515.7\n",
        "# 800G -> 11336.4\n",
        "# 815G -> 22594.2\n",
        "\n",
        "as_6Li2 = 0.6*1423.1*a0 # m\n",
        "\n",
        "N = 35e3 # atoms\n",
        "\n",
        "omega_r = 2*np.pi*163.0 #  Hz\n",
        "omega_z = 2*np.pi*11.0  # Hz\n",
        "\n",
        "Omega1 = 2*omega_r # Hz\n",
        "Omega2 = Omega1*np.pi/2 # Hz\n",
        "\n",
        "h = 0.5e-6 # m\n",
        "dr = h # m\n",
        "dz = h # m\n",
        "\n",
        "r_max = 64*dr # m\n",
        "z_max = 512*dz # m\n",
        "print(1e6*r_max, 1e6*z_max)\n",
        "print(1e6*dr, 1e6*dz)"
      ],
      "execution_count": 24,
      "outputs": [
        {
          "output_type": "stream",
          "text": [
            "32.0 256.0\n",
            "0.5 0.5\n"
          ],
          "name": "stdout"
        }
      ]
    },
    {
      "cell_type": "code",
      "metadata": {
        "colab": {
          "base_uri": "https://localhost:8080/"
        },
        "id": "90MCCc3ioeej",
        "outputId": "70cd8552-ec4a-46e7-9879-21882add7c48"
      },
      "source": [
        "kFermi = np.sqrt(2*m6Li2*(omega_r**2*omega_z)**(1.0/3.0)/hbar)*(6*N)**(1.0/6.0)\n",
        "inv_kFa = 1./(kFermi*(as_6Li2/0.6))\n",
        "inv_kFa"
      ],
      "execution_count": 25,
      "outputs": [
        {
          "output_type": "execute_result",
          "data": {
            "text/plain": [
              "4.333482785633333"
            ]
          },
          "metadata": {
            "tags": []
          },
          "execution_count": 25
        }
      ]
    },
    {
      "cell_type": "markdown",
      "metadata": {
        "id": "-MU6tgR27Abf"
      },
      "source": [
        "# Dimensionless constants"
      ]
    },
    {
      "cell_type": "code",
      "metadata": {
        "id": "E19ls8HK69a5"
      },
      "source": [
        "# ----- Characteristics ------\n",
        "omega = Omega1\n",
        "x_s = np.sqrt(hbar/(m6Li2*omega))\n",
        "\n",
        "# ----- Distances ------\n",
        "r_adim_max  = r_max/x_s\n",
        "z_adim_max  = z_max/x_s\n",
        "dr_adim = dr/x_s\n",
        "dz_adim = dz/x_s\n",
        "\n",
        "# ----- Frequencies ------\n",
        "beta_r = omega_r/omega\n",
        "beta_z = omega_z/omega\n",
        "sigma1 = Omega1/omega\n",
        "sigma2 = Omega2/omega\n",
        "\n",
        "# ----- System ------\n",
        "eta = 1.0\n",
        "C_eta = 4.0*np.pi*N*as_6Li2/x_s\n",
        "#eta = 2.0/3.0\n",
        "#C_eta = 0.37*0.5*(3*np.pi**2*N)**(2./3)"
      ],
      "execution_count": 26,
      "outputs": []
    },
    {
      "cell_type": "markdown",
      "metadata": {
        "id": "Y5iF1v8k7Ik6"
      },
      "source": [
        "# Simulation\n",
        "## Arrays"
      ]
    },
    {
      "cell_type": "code",
      "metadata": {
        "colab": {
          "base_uri": "https://localhost:8080/"
        },
        "id": "gvyeAUbq7Gh1",
        "outputId": "da5f2790-1250-46d7-90a2-d527af69c3f0"
      },
      "source": [
        "r = cp.arange(-r_adim_max, r_adim_max, dr_adim)\n",
        "z = cp.arange(-z_adim_max, z_adim_max, dz_adim)\n",
        "X, Y, Z = cp.meshgrid(r, r, z, indexing='ij')\n",
        "RR = X**2+Y**2\n",
        "X, Y = [], []\n",
        "print(RR.shape)\n",
        "\n",
        "kr = 2.0*np.pi*cp.fft.fftfreq(len(r),dr_adim)\n",
        "kz = 2.0*np.pi*cp.fft.fftfreq(len(z),dz_adim)\n",
        "Kx, Ky, Kz = cp.meshgrid(kr, kr, kz, indexing='ij')\n",
        "KK = Kx**2+Ky**2+Kz**2\n",
        "Kx, Ky, Kz = [], [], []\n",
        "\n",
        "r_center_idx = np.where(np.abs(r)<0.5*dr_adim)[0][0]\n",
        "z_center_idx = np.where(np.abs(z)<0.5*dz_adim)[0][0]\n",
        "print(r[r_center_idx], z[z_center_idx])"
      ],
      "execution_count": 27,
      "outputs": [
        {
          "output_type": "stream",
          "text": [
            "(128, 128, 1024)\n",
            "0.0 0.0\n"
          ],
          "name": "stdout"
        }
      ]
    },
    {
      "cell_type": "code",
      "metadata": {
        "id": "FOZ6w3bT7GeT"
      },
      "source": [
        "def Gauss_psi0(RR, Z):\n",
        "    global omega_r,omega_z, N, as_6Li2, x_s, m6Li2\n",
        "    omega_bar = (omega_r*omega_r*omega_z)**(1./3.)\n",
        "    mu  = 0.5*hbar*omega_bar*(15*N*as_6Li2/x_s)**(2./5.)\n",
        "    rTF_r, rTF_z = cp.sqrt(2.0*mu/(m6Li2*omega_r**2)), cp.sqrt(2.0*mu/(m6Li2*omega_z**2))\n",
        "    return mu, cp.exp(-2*RR*(x_s/rTF_r)**2-2*(x_s*Z/rTF_z)**2)\n",
        "\n",
        "def normalization(psi, dr, dz):\n",
        "    return cp.sum(cp.conj(psi)*psi).real*dr*dr*dz\n",
        "\n",
        "def psi_error(psi_analytic, psi_numeric, dr, dz):\n",
        "    return normalization(psi_analytic-psi_numeric, dr, dz)\n",
        "\n",
        "def TSSP_step_3D_imag_time_fftn(psi0,RR,Z,KK,t,dt,int_potential_dt,pot_args,dr,dz,C_eta,eta,gamma):\n",
        "    U_int = int_potential_dt(RR, Z, t, dt, pot_args)\n",
        "    psi = psi0\n",
        "    psi = cp.exp(0.5*(-1.0)*(U_int+dt*C_eta*(psi*cp.conj(psi))**eta))*psi\n",
        "    psi = cp.fft.ifftn(cp.exp((-1.0)*dt*(KK)/2.0)*cp.fft.fftn(psi, axes=(0,1,2,)), axes=(0,1,2,))\n",
        "    psi = cp.exp(0.5*(-1.0)*(U_int+dt*C_eta*(psi*cp.conj(psi))**eta))*psi\n",
        "    return psi/cp.sqrt(normalization(psi, dr, dz))\n",
        "\n",
        "def TSSP_step_3D_real_time_fftn(psi0,RR,Z,KK,t,dt,int_potential_dt,pot_args,dr,dz,C_eta,eta,gamma):\n",
        "    U_int = int_potential_dt(RR, Z, t, dt, pot_args)\n",
        "    f_gamma = (1.0j+gamma)/(1.0+gamma**2)\n",
        "    psi = psi0\n",
        "    psi = cp.exp(0.5*(-f_gamma)*(U_int+dt*C_eta*(psi*cp.conj(psi))**eta))*psi\n",
        "    psi = cp.fft.ifftn(cp.exp((-f_gamma)*dt*(KK)/2.0)*cp.fft.fftn(psi, axes=(0,1,2,)), axes=(0,1,2,))\n",
        "    psi = cp.exp(0.5*(-f_gamma)*(U_int+dt*C_eta*(psi*cp.conj(psi))**eta))*psi\n",
        "    return psi/cp.sqrt(normalization(psi, dr, dz))\n",
        "\n",
        "def harmonic_potential_biExcitation_time_integral(RR, Z, t, dt, pot_args):\n",
        "    b_r, b_z, a1, s1, a2, s2 = pot_args\n",
        "    U0_T = 0.5*dt*(RR*b_r**2 + (b_z*Z)**2)\n",
        "    Umex1_T = a1*(cp.cos(s1*(t+dt))-cp.cos(s1*t))/s1\n",
        "    Umex2_T = a2*(cp.cos(s2*(t+dt))-cp.cos(s2*t))/s2\n",
        "    return U0_T + 0.5*(RR*b_r**2)*(Umex1_T+Umex2_T)\n",
        "\n",
        "def harmonic_potential_barrier_biExcitation_time_integral(RR, Z, t, dt, pot_args):\n",
        "    b_r, b_z, a1, s1, a2, s2, VBarrier, Size = pot_args\n",
        "    U0_T = 0.5*dt*(RR*b_r**2 + (b_z*Z)**2)\n",
        "    U0_Barrier = 0.5*dt*VBarrier*cp.exp(-(Z/Size)**2)\n",
        "    Umex1_T = a1*(cp.cos(s1*(t+dt))-cp.cos(s1*t))/s1\n",
        "    Umex2_T = a2*(cp.cos(s2*(t+dt))-cp.cos(s2*t))/s2\n",
        "    return U0_T + U0_Barrier + 0.5*(RR*b_r**2)*(Umex1_T+Umex2_T)"
      ],
      "execution_count": 28,
      "outputs": []
    },
    {
      "cell_type": "code",
      "metadata": {
        "id": "3wqoLl6d7Ga1"
      },
      "source": [
        "start_time = time.time()\n",
        "dt_adim = 0.01\n",
        "mu_adim, ground_state = Gauss_psi0(RR, Z)\n",
        "ground_state = ground_state/cp.sqrt(normalization(ground_state, dr_adim, dz_adim))\n",
        "eps = 1.0\n",
        "\n",
        "B_size = 10e-6/x_s\n",
        "B_height = 2*mu_adim/(m6Li2*omega**2*x_s**2)\n",
        "\n",
        "count = 0\n",
        "while eps > 1e-8:\n",
        "    count += 1\n",
        "    psi_step = TSSP_step_3D_imag_time_fftn(psi0=ground_state, RR=RR, Z=Z, KK=KK, t=0.0, dt=dt_adim, \n",
        "                                           int_potential_dt=harmonic_potential_biExcitation_time_integral, \n",
        "                                           pot_args=cp.array([beta_r,beta_z,0.0,1.0,0.0,1.0]), \n",
        "                                           dr=dr_adim, dz=dz_adim, C_eta=C_eta, eta=eta, gamma=0)\n",
        "    \n",
        "    eps = cp.abs(psi_error(psi_step, ground_state, dr_adim, dz_adim))\n",
        "    ground_state = psi_step\n",
        "\n",
        "print(count, eps)\n",
        "psi_step = []\n",
        "print(\"--- %s seconds ---\" % (time.time() - start_time))"
      ],
      "execution_count": null,
      "outputs": []
    },
    {
      "cell_type": "code",
      "metadata": {
        "id": "TCXsMXE3DFa3"
      },
      "source": [
        "fig, ax = plt.subplots(ncols=2, figsize=(12,4))\n",
        "im0=ax[0].imshow(cp.asnumpy(ground_state[:,r_center_idx,:]).real, aspect='auto', origin='lower',\n",
        "             extent=[1e6*x_s*z[0],1e6*x_s*z[-1],1e6*x_s*r[0],1e6*x_s*r[-1]])\n",
        "ax[0].set_xlabel(r\"z [$\\mu$m]\",fontsize=15)\n",
        "ax[0].set_ylabel(r\"x [$\\mu$m]\",fontsize=15)\n",
        "plt.colorbar(im0, ax=ax[0])\n",
        "\n",
        "im1=ax[1].imshow(cp.asnumpy(ground_state[:,:,z_center_idx]).real, aspect='auto', origin='lower',\n",
        "             extent=[1e6*x_s*r[0],1e6*x_s*r[-1],1e6*x_s*r[0],1e6*x_s*r[-1]])\n",
        "ax[1].set_xlabel(r\"y [$\\mu$m]\",fontsize=15)\n",
        "ax[1].set_ylabel(r\"x [$\\mu$m]\",fontsize=15)\n",
        "plt.colorbar(im1, ax=ax[1])\n",
        "\n",
        "plt.tight_layout()"
      ],
      "execution_count": null,
      "outputs": []
    },
    {
      "cell_type": "code",
      "metadata": {
        "colab": {
          "base_uri": "https://localhost:8080/"
        },
        "id": "vrrf-FwZAP90",
        "outputId": "75bb3a7b-d32a-43f0-b3e3-1e5ee72039a9"
      },
      "source": [
        "dt_adim = 2*np.pi*0.001\n",
        "dt_save = 2*np.pi*0.05\n",
        "t_adim_max = 2*np.pi*50.0\n",
        "t_adim = np.arange(0,t_adim_max,dt_adim)\n",
        "t_to_save = t_adim[np.mod(range(len(t_adim)), int(dt_save/dt_adim))==0]\n",
        "print(round(1e3*t_adim_max/(omega),3), round(1e3*dt_adim/(omega),3), len(t_adim), len(t_to_save))"
      ],
      "execution_count": null,
      "outputs": [
        {
          "output_type": "stream",
          "text": [
            "153.3742331288344 50000 1000\n"
          ],
          "name": "stdout"
        }
      ]
    },
    {
      "cell_type": "code",
      "metadata": {
        "colab": {
          "base_uri": "https://localhost:8080/",
          "height": 253,
          "referenced_widgets": [
            "d39cfcc25f1f45eb8502a0c26f629be9",
            "1d3a938a45654c699fb177ebbbbac134",
            "3ea1f79537bc4722bbfebcf98e4575f4",
            "0eea34b0c81345028884b8d1147d2032",
            "332dbf9ee6c54283bb43b089a7cc59d7",
            "f2557eb7a0c547e58e8d3bb0695adb25",
            "8e35b832f0354118acca947888310068",
            "9e2ba44ca26844ee8dd57fb04a319ab1"
          ]
        },
        "id": "2MEkgMIAARm4",
        "outputId": "845fecce-3ebc-45b3-e4ad-be7ae87799c0"
      },
      "source": [
        "gamma = 0.005\n",
        "alpha1 = 0.10\n",
        "alpha2 = alpha1*0\n",
        "\n",
        "filename = \"/content/drive/MyDrive/Colab Notebooks/Data/data_UFG_832G_10p_g0p005\"\n",
        "sim_file = filename+\"_psi_vs_time\"\n",
        "column_density_file = filename+\"_column_density\"\n",
        "params_file = filename+\"_parameters\"\n",
        "\n",
        "parameters = np.array([omega, x_s, r_adim_max, z_adim_max, dr_adim, dz_adim, beta_r, beta_z, alpha1, alpha2, \n",
        "                       sigma1, sigma2, eta, C_eta, m6Li2, as_6Li2, N, gamma, t_adim, t_to_save], dtype=object)\n",
        "np.save(params_file, parameters)\n",
        "\n",
        "start_time = time.time()\n",
        "psi_step_temp = ground_state\n",
        "psi_steps = [psi_step_temp[r_center_idx,:,:]]\n",
        "nc_steps = [dr_adim*cp.sum(cp.abs(psi_step_temp)**2,axis=0)]\n",
        "\n",
        "t = 0.0\n",
        "for ts in tqdm(range(1,len(t_to_save))):\n",
        "    for i in range(int(dt_save/dt_adim)):\n",
        "        t += dt_adim\n",
        "        psi_step_temp = TSSP_step_3D_real_time_fftn(psi0=psi_step_temp, RR=RR, Z=Z, KK=KK, t=t, dt=dt_adim, \n",
        "                                                    int_potential_dt=harmonic_potential_biExcitation_time_integral, \n",
        "                                                    pot_args=cp.array([beta_r,beta_z,alpha1,sigma1,alpha2,sigma2]), \n",
        "                                                    dr=dr_adim, dz=dz_adim, C_eta=C_eta, eta=eta, gamma=gamma)\n",
        "    psi_steps.append(psi_step_temp[r_center_idx,:,:])\n",
        "    nc_steps.append(dr_adim*cp.sum(cp.abs(psi_step_temp)**2,axis=0))\n",
        "\n",
        "    if cp.mod(ts+1,len(t_to_save)/10)==0:\n",
        "        sim_file = filename+f\"_{ts+1}\"+\"_psi_vs_time\"\n",
        "        column_density_file = filename+f\"_{ts+1}\"+\"_column_density\"\n",
        "        print(ts+1)\n",
        "        #save psi\n",
        "        cp.save(sim_file, cp.array(psi_steps))\n",
        "        #save column density\n",
        "        cp.save(column_density_file, cp.array(nc_steps))\n",
        "        psi_steps, nc_steps = [], []\n",
        "        \n",
        "print(\"--- %s seconds ---\" % (time.time() - start_time))"
      ],
      "execution_count": null,
      "outputs": [
        {
          "output_type": "display_data",
          "data": {
            "application/vnd.jupyter.widget-view+json": {
              "model_id": "d39cfcc25f1f45eb8502a0c26f629be9",
              "version_minor": 0,
              "version_major": 2
            },
            "text/plain": [
              "HBox(children=(FloatProgress(value=0.0, max=999.0), HTML(value='')))"
            ]
          },
          "metadata": {
            "tags": []
          }
        },
        {
          "output_type": "stream",
          "text": [
            "100\n",
            "200\n",
            "300\n",
            "400\n",
            "500\n",
            "600\n",
            "700\n",
            "800\n",
            "900\n",
            "1000\n",
            "\n",
            "--- 9924.329272031784 seconds ---\n"
          ],
          "name": "stdout"
        }
      ]
    },
    {
      "cell_type": "code",
      "metadata": {
        "id": "Z7fU3JcyEJqx"
      },
      "source": [
        ""
      ],
      "execution_count": null,
      "outputs": []
    }
  ]
}